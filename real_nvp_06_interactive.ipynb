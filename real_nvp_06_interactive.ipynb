{
 "cells": [
  {
   "cell_type": "code",
   "execution_count": 19,
   "id": "initial_id",
   "metadata": {
    "ExecuteTime": {
     "end_time": "2024-06-04T18:46:47.899059300Z",
     "start_time": "2024-06-04T18:46:47.875691500Z"
    }
   },
   "outputs": [],
   "source": [
    "import torch\n",
    "from torch import nn\n",
    "from torch.utils.data import Dataset, DataLoader\n",
    "import numpy as np\n",
    "import matplotlib.pyplot as plt\n",
    "from sklearn.datasets import make_s_curve\n",
    "from sklearn.preprocessing import StandardScaler\n",
    "from scipy.stats import multivariate_normal\n",
    "from torch.distributions import MultivariateNormal\n",
    "import ipywidgets as widgets\n",
    "from matplotlib.widgets import Cursor\n",
    "from ipywidgets import interactive_output, VBox, Label, FloatSlider\n",
    "from ipywidgets import FloatSlider, Button, VBox, HBox, interactive_output, Label"
   ]
  },
  {
   "cell_type": "code",
   "execution_count": 20,
   "id": "896d908087068557",
   "metadata": {
    "collapsed": false,
    "ExecuteTime": {
     "end_time": "2024-06-04T18:46:47.909317600Z",
     "start_time": "2024-06-04T18:46:47.879188100Z"
    }
   },
   "outputs": [],
   "source": [
    "data = np.load('observed_data.npy')\n",
    "z = np.load('latent_variables.npy')"
   ]
  },
  {
   "cell_type": "code",
   "execution_count": 21,
   "id": "fb6599614bc8b19c",
   "metadata": {
    "collapsed": false,
    "ExecuteTime": {
     "end_time": "2024-06-04T18:46:47.915205400Z",
     "start_time": "2024-06-04T18:46:47.887844Z"
    }
   },
   "outputs": [],
   "source": [
    "class AffineCouplingLayer(nn.Module):\n",
    "    def __init__(self):\n",
    "        super(AffineCouplingLayer, self).__init__()\n",
    "        \n",
    "        self.s_net = nn.Sequential(\n",
    "            # first layer: \n",
    "            nn.Linear(1, 256),\n",
    "            nn.ReLU(),\n",
    "            # second layer: \n",
    "            nn.Linear(256, 1),\n",
    "            nn.Tanh()\n",
    "        )\n",
    "        \n",
    "        self.t_net = nn.Sequential(\n",
    "            # first layer:\n",
    "            nn.Linear(1, 128),\n",
    "            nn.ReLU(),\n",
    "            # second layer: \n",
    "            nn.Linear(128, 1)\n",
    "        )\n",
    "\n",
    "    def forward(self, x1, x2):\n",
    "        s = self.s_net(x1)\n",
    "        t = self.t_net(x1)\n",
    "        y2 = x2 * torch.exp(s) + t\n",
    "        y1 = x1\n",
    "        \n",
    "        # 以下两种log(det(J))的计算方式是等价的，因为s为单个数字，求和其实没有作用\n",
    "        # log_det_jacobian = s.view(s.size(0), -1).sum(dim=1)\n",
    "        log_det_jacobian = torch.flatten(s)\n",
    "        \n",
    "        return y1, y2, log_det_jacobian\n",
    "\n",
    "    def inverse(self, y1, y2):\n",
    "        s = self.s_net(y1)\n",
    "        t = self.t_net(y1)\n",
    "        x2 = (y2 - t) * torch.exp(-s)\n",
    "        x1 = y1\n",
    "        \n",
    "        # log_det_jacobian = -s.view(s.size(0), -1).sum(dim=1)\n",
    "        log_det_jacobian = torch.flatten(-s)\n",
    "        \n",
    "        return x1, x2, log_det_jacobian"
   ]
  },
  {
   "cell_type": "code",
   "execution_count": 22,
   "id": "fed39c58c81197e1",
   "metadata": {
    "collapsed": false,
    "ExecuteTime": {
     "end_time": "2024-06-04T18:46:47.923179500Z",
     "start_time": "2024-06-04T18:46:47.893931Z"
    }
   },
   "outputs": [],
   "source": [
    "class RealNVP(nn.Module):\n",
    "    def __init__(self):\n",
    "        super(RealNVP, self).__init__()\n",
    "        self.layers = nn.ModuleList([AffineCouplingLayer() for _ in range(8)])\n",
    "\n",
    "    def forward(self, x):\n",
    "        log_det_jacobian = 0\n",
    "        x1, x2 = x.chunk(2, dim=1)\n",
    "\n",
    "        for i, layer in enumerate(self.layers):\n",
    "            if i % 2 == 0:\n",
    "                y1, y2, ldj = layer(x1, x2)\n",
    "                x1, x2 = y1, y2\n",
    "                \n",
    "            else:\n",
    "                y2, y1, ldj = layer(x2, x1)\n",
    "                x1, x2 = y1, y2\n",
    "                \n",
    "            log_det_jacobian += ldj\n",
    "\n",
    "        return torch.cat([y1, y2], dim=1), log_det_jacobian\n",
    "\n",
    "    def inverse(self, y):\n",
    "        log_det_jacobian = 0\n",
    "        y1, y2 = y.chunk(2, dim=1)\n",
    "\n",
    "        for i, layer in enumerate(reversed(self.layers)):\n",
    "            if i % 2 == 0:\n",
    "                x2, x1, ldj = layer.inverse(y2, y1)\n",
    "                y1, y2 = x1, x2\n",
    "                \n",
    "            else:\n",
    "                x1, x2, ldj = layer.inverse(y1, y2)\n",
    "                y1, y2 = x1, x2\n",
    "                \n",
    "            log_det_jacobian += ldj\n",
    "\n",
    "        return torch.cat([x1, x2], dim=1), log_det_jacobian"
   ]
  },
  {
   "cell_type": "code",
   "execution_count": 23,
   "id": "1ee6a7018c05d1fa",
   "metadata": {
    "collapsed": false,
    "ExecuteTime": {
     "end_time": "2024-06-04T18:46:47.945104600Z",
     "start_time": "2024-06-04T18:46:47.898062600Z"
    }
   },
   "outputs": [],
   "source": [
    "model = torch.load('model_06.pth')"
   ]
  },
  {
   "cell_type": "markdown",
   "source": [
    "## 1. 静态绘图"
   ],
   "metadata": {
    "collapsed": false
   },
   "id": "6ffd0385289bb1a5"
  },
  {
   "cell_type": "code",
   "execution_count": 24,
   "id": "ec9067722fb86872",
   "metadata": {
    "collapsed": false,
    "ExecuteTime": {
     "end_time": "2024-06-04T18:46:47.945104600Z",
     "start_time": "2024-06-04T18:46:47.906818Z"
    }
   },
   "outputs": [],
   "source": [
    "# fig, ax = plt.subplots(1, 2, figsize=(16, 6))\n",
    "# \n",
    "# # 绘制原始数据\n",
    "# ax[0].scatter(data[:, 0], data[:, 1], s=1, c='green', alpha=0.5, label='Original Space')\n",
    "# ax[0].set_title('Original Data')\n",
    "# ax[0].set_xlabel('Dimension 1')\n",
    "# ax[0].set_ylabel('Dimension 2')\n",
    "# ax[0].grid(True)\n",
    "# ax[0].set_xlim(-2, 2)\n",
    "# ax[0].set_ylim(-2, 2)\n",
    "# ax[0].set_aspect('equal', adjustable='box')\n",
    "# ax[0].legend()\n",
    "# \n",
    "# \n",
    "# # 绘制转换后的数据\n",
    "# ax[1].scatter(z[:, 0], z[:, 1], s=1, c='green', alpha=0.5, label='Latent Space')\n",
    "# \n",
    "# # 添加表示标准双变量正态分布的圆圈\n",
    "# circle = plt.Circle((0, 0), 2, color='blue', fill=False, linewidth=2, linestyle='--', label='2D Standard Normal (radius=2*std)')\n",
    "# ax[1].add_artist(circle)\n",
    "# \n",
    "# ax[1].set_title('Transformed Data')\n",
    "# ax[1].set_xlabel('Dimension 1')\n",
    "# ax[1].set_ylabel('Dimension 2')\n",
    "# ax[1].grid(True)\n",
    "# ax[1].set_xlim(-4, 4)\n",
    "# ax[1].set_ylim(-4, 4)\n",
    "# ax[1].set_aspect('equal', adjustable='box')\n",
    "# ax[1].legend()\n",
    "# \n",
    "# plt.tight_layout()\n",
    "# plt.show()"
   ]
  },
  {
   "cell_type": "markdown",
   "source": [
    "## 2. 动态绘图-使用滑条"
   ],
   "metadata": {
    "collapsed": false
   },
   "id": "328fb63005cbc247"
  },
  {
   "cell_type": "code",
   "execution_count": 25,
   "id": "2506c3b060cbad7b",
   "metadata": {
    "collapsed": false,
    "ExecuteTime": {
     "end_time": "2024-06-04T18:46:47.946101100Z",
     "start_time": "2024-06-04T18:46:47.909317600Z"
    }
   },
   "outputs": [],
   "source": [
    "# def plot_all(x_1, x_2):\n",
    "#     fig, ax = plt.subplots(1, 2, figsize=(16, 6))\n",
    "# \n",
    "#     # 绘制原始数据\n",
    "#     ax[0].scatter(data[:, 0], data[:, 1], s=1, c='green', alpha=0.5, label='Original Space')\n",
    "#     ax[0].scatter(x_1, x_2, color='red', s=100, edgecolors='black', label='Observed Point')\n",
    "#     ax[0].set_title('Original Data')\n",
    "#     ax[0].set_xlabel('Dimension 1')\n",
    "#     ax[0].set_ylabel('Dimension 2')\n",
    "#     ax[0].grid(True)\n",
    "#     ax[0].set_xlim(-2, 2)\n",
    "#     ax[0].set_ylim(-2, 2)\n",
    "#     ax[0].set_aspect('equal', adjustable='box')\n",
    "#     ax[0].legend()\n",
    "# \n",
    "#     # 转换坐标\n",
    "#     observed_point = np.array([[x_1, x_2]])  # 注意：现在是2D张量\n",
    "#     model.eval()\n",
    "#     latent_point, _ = model(torch.tensor(observed_point, dtype=torch.float32))\n",
    "#     latent_point = latent_point.detach().numpy()\n",
    "# \n",
    "#     # 绘制转换后的数据\n",
    "#     ax[1].scatter(z[:, 0], z[:, 1], s=1, c='green', alpha=0.5, label='Latent Space')\n",
    "#     ax[1].scatter(latent_point[0, 0], latent_point[0, 1], color='red', s=100, edgecolors='black', label='Transformed Point')\n",
    "#     circle = plt.Circle((0, 0), 2, color='blue', fill=False, linewidth=2, linestyle='--', label='2D Standard Normal (radius=2*std)')\n",
    "#     ax[1].add_artist(circle)\n",
    "#     ax[1].set_title('Transformed Data')\n",
    "#     ax[1].set_xlabel('Dimension 1')\n",
    "#     ax[1].set_ylabel('Dimension 2')\n",
    "#     ax[1].grid(True)\n",
    "#     ax[1].set_xlim(-4, 4)\n",
    "#     ax[1].set_ylim(-4, 4)\n",
    "#     ax[1].set_aspect('equal', adjustable='box')\n",
    "#     ax[1].legend()\n",
    "# \n",
    "#     plt.tight_layout()\n",
    "#     plt.show()\n",
    "# \n",
    "# # 创建滑动条\n",
    "# x1_slider = FloatSlider(value=0.0, min=-2.0, max=2.0, step=0.1, description='X1:')\n",
    "# x2_slider = FloatSlider(value=0.0, min=-2.0, max=2.0, step=0.1, description='X2:')\n",
    "# \n",
    "# # 创建交互式控件\n",
    "# ui = VBox([Label('Adjust the observed point:'), x1_slider, x2_slider])\n",
    "# interactive_plot = interactive_output(plot_all, {'x_1': x1_slider, 'x_2': x2_slider})\n",
    "# \n",
    "# display(ui, interactive_plot)\n"
   ]
  },
  {
   "cell_type": "markdown",
   "source": [
    "## 3. 动态绘图-使用滑条+按键"
   ],
   "metadata": {
    "collapsed": false
   },
   "id": "d6eabc678a4e218c"
  },
  {
   "cell_type": "code",
   "execution_count": 26,
   "outputs": [
    {
     "data": {
      "text/plain": "VBox(children=(Label(value='Adjust the observed point:'), HBox(children=(Button(description='-', style=ButtonS…",
      "application/vnd.jupyter.widget-view+json": {
       "version_major": 2,
       "version_minor": 0,
       "model_id": "b997ddfba17d45f8af2a3241deb7d1f4"
      }
     },
     "metadata": {},
     "output_type": "display_data"
    },
    {
     "data": {
      "text/plain": "Output()",
      "application/vnd.jupyter.widget-view+json": {
       "version_major": 2,
       "version_minor": 0,
       "model_id": "5b636dd6bf754606b9b6da17d166aa35"
      }
     },
     "metadata": {},
     "output_type": "display_data"
    }
   ],
   "source": [
    "def plot_all(x_1, x_2):\n",
    "    fig, ax = plt.subplots(1, 2, figsize=(16, 6))\n",
    "\n",
    "    # 绘制原始数据\n",
    "    ax[0].scatter(data[:, 0], data[:, 1], s=1, c='green', alpha=0.5, label='Original Space')\n",
    "    ax[0].scatter(x_1, x_2, color='red', s=100, edgecolors='black', label='Observed Point')\n",
    "    ax[0].set_title('Original Data')\n",
    "    ax[0].set_xlabel('Dimension 1')\n",
    "    ax[0].set_ylabel('Dimension 2')\n",
    "    ax[0].grid(True)\n",
    "    ax[0].set_xlim(-2, 2)\n",
    "    ax[0].set_ylim(-2, 2)\n",
    "    ax[0].set_aspect('equal', adjustable='box')\n",
    "    ax[0].legend()\n",
    "\n",
    "    # 转换坐标\n",
    "    observed_point = np.array([[x_1, x_2]])  # 注意：现在是2D张量\n",
    "    model.eval()\n",
    "    latent_point, _ = model(torch.tensor(observed_point, dtype=torch.float32))\n",
    "    latent_point = latent_point.detach().numpy()\n",
    "\n",
    "    # 绘制转换后的数据\n",
    "    ax[1].scatter(z[:, 0], z[:, 1], s=1, c='green', alpha=0.5, label='Latent Space')\n",
    "    ax[1].scatter(latent_point[0, 0], latent_point[0, 1], color='red', s=100, edgecolors='black', label='Transformed Point')\n",
    "    circle = plt.Circle((0, 0), 2, color='blue', fill=False, linewidth=2, linestyle='--', label='2D Standard Normal (radius=2*std)')\n",
    "    ax[1].add_artist(circle)\n",
    "    ax[1].set_title('Transformed Data')\n",
    "    ax[1].set_xlabel('Dimension 1')\n",
    "    ax[1].set_ylabel('Dimension 2')\n",
    "    ax[1].grid(True)\n",
    "    ax[1].set_xlim(-4, 4)\n",
    "    ax[1].set_ylim(-4, 4)\n",
    "    ax[1].set_aspect('equal', adjustable='box')\n",
    "    ax[1].legend()\n",
    "\n",
    "    plt.tight_layout()\n",
    "    plt.show()\n",
    "\n",
    "# 创建滑动条\n",
    "x1_slider = FloatSlider(value=0.0, min=-2.0, max=2.0, step=0.1, description='X1:')\n",
    "x2_slider = FloatSlider(value=0.0, min=-2.0, max=2.0, step=0.1, description='X2:')\n",
    "\n",
    "def update_x1(b):\n",
    "    x1_slider.value += 0.1 if b.description == '+' else -0.1\n",
    "\n",
    "def update_x2(b):\n",
    "    x2_slider.value += 0.1 if b.description == '+' else -0.1\n",
    "\n",
    "x1_plus = Button(description='+')\n",
    "x1_minus = Button(description='-')\n",
    "x1_plus.on_click(update_x1)\n",
    "x1_minus.on_click(update_x1)\n",
    "\n",
    "x2_plus = Button(description='+')\n",
    "x2_minus = Button(description='-')\n",
    "x2_plus.on_click(update_x2)\n",
    "x2_minus.on_click(update_x2)\n",
    "\n",
    "# Creating interactive controls\n",
    "ui = VBox([Label('Adjust the observed point:'),\n",
    "           HBox([x1_minus, x1_slider, x1_plus]),\n",
    "           HBox([x2_minus, x2_slider, x2_plus])])\n",
    "\n",
    "interactive_plot = interactive_output(plot_all, {'x_1': x1_slider, 'x_2': x2_slider})\n",
    "\n",
    "display(ui, interactive_plot)"
   ],
   "metadata": {
    "collapsed": false,
    "ExecuteTime": {
     "end_time": "2024-06-04T18:46:48.507799500Z",
     "start_time": "2024-06-04T18:46:47.917198200Z"
    }
   },
   "id": "f53ef110de17d854"
  }
 ],
 "metadata": {
  "kernelspec": {
   "display_name": "Python 3 (ipykernel)",
   "language": "python",
   "name": "python3"
  },
  "language_info": {
   "codemirror_mode": {
    "name": "ipython",
    "version": 3
   },
   "file_extension": ".py",
   "mimetype": "text/x-python",
   "name": "python",
   "nbconvert_exporter": "python",
   "pygments_lexer": "ipython3",
   "version": "3.11.8"
  }
 },
 "nbformat": 4,
 "nbformat_minor": 5
}
